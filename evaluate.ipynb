{
 "cells": [
  {
   "cell_type": "code",
   "execution_count": null,
   "metadata": {},
   "outputs": [],
   "source": [
    "import torch\n",
    "from lib.dataset import BlendedMVSDataModule, TartanairDataModule\n",
    "from lib.metrics import compute_metrics\n",
    "from torchvision import transforms as T\n",
    "import pandas as pd\n",
    "import matplotlib.pyplot as plt\n",
    "from ramdepth import Model\n",
    "from tqdm import tqdm\n",
    "import warnings\n",
    "warnings.filterwarnings(\"ignore\", category=UserWarning)"
   ]
  },
  {
   "cell_type": "code",
   "execution_count": null,
   "metadata": {},
   "outputs": [],
   "source": [
    "# parameters\n",
    "device = \"cuda:0\"\n",
    "dataset = \"tartanair\""
   ]
  },
  {
   "cell_type": "code",
   "execution_count": null,
   "metadata": {},
   "outputs": [],
   "source": [
    "# load the data\n",
    "img_process = T.Compose(\n",
    "    [\n",
    "        T.ToTensor(),\n",
    "        T.Normalize(mean=[0.485, 0.456, 0.406], std=[0.229, 0.224, 0.225])\n",
    "    ]\n",
    ")\n",
    "depth_process = T.ToTensor()\n",
    "\n",
    "def basic_transform(ex):\n",
    "    for key, value in ex.items():\n",
    "        if key.startswith(\"image\"):\n",
    "            ex[key] = img_process(value)\n",
    "        elif key.startswith(\"gt\"):\n",
    "            ex[key] = depth_process(value)\n",
    "    return ex\n",
    "\n",
    "DMClass = {\n",
    "    \"blended\": BlendedMVSDataModule,\n",
    "    \"tartanair\": TartanairDataModule\n",
    "}[dataset]\n",
    "\n",
    "dm = DMClass(\n",
    "    load_prevs=4,\n",
    "    batch_size=1,\n",
    "    eval_transform=basic_transform,\n",
    ")\n",
    "dm.prepare_data()\n",
    "dm.setup(\"test\")\n",
    "dl = dm.test_dataloader()"
   ]
  },
  {
   "cell_type": "code",
   "execution_count": null,
   "metadata": {},
   "outputs": [],
   "source": [
    "model = Model(pretrained=dataset, device=device)"
   ]
  },
  {
   "cell_type": "code",
   "execution_count": null,
   "metadata": {},
   "outputs": [],
   "source": [
    "def prepare_input(ex):\n",
    "    n_src = max(int(k.split(\"_\")[-1]) for k in ex.keys() if \"_prev\" in k)\n",
    "    target = ex[\"image\"]\n",
    "    sources = torch.stack([ex[f\"image_prev_{i}\"] for i in range(n_src)], 2)\n",
    "    poses = torch.stack([\n",
    "        ex[\"position\"] @ torch.linalg.inv(ex[f\"position_prev_{i}\"])\n",
    "        for i in range(n_src)\n",
    "    ], 1)\n",
    "    intrinsics = torch.stack(\n",
    "        [ex[\"intrinsics\"]] + [ex[f\"intrinsics_prev_{i}\"] for i in range(n_src)],\n",
    "        1,\n",
    "    )\n",
    "    return {\n",
    "        \"target\": target,\n",
    "        \"sources\": sources,\n",
    "        \"poses\": poses,\n",
    "        \"intrinsics\": intrinsics\n",
    "    }\n",
    "\n",
    "metrics = []\n",
    "for ex in tqdm(dl):\n",
    "    inp = {k: v.to(device) for k, v in prepare_input(ex).items()}\n",
    "    depth = model(**inp).cpu()\n",
    "    metrics.append({k: v.item() for k, v in compute_metrics(depth, ex[\"gt\"]).items()})\n",
    "metrics = pd.DataFrame(metrics).mean(axis=0)\n",
    "\n",
    "print(f\"== metrics for {dataset} ==\")\n",
    "print(metrics)"
   ]
  }
 ],
 "metadata": {
  "kernelspec": {
   "display_name": "ramvde",
   "language": "python",
   "name": "python3"
  },
  "language_info": {
   "codemirror_mode": {
    "name": "ipython",
    "version": 3
   },
   "file_extension": ".py",
   "mimetype": "text/x-python",
   "name": "python",
   "nbconvert_exporter": "python",
   "pygments_lexer": "ipython3",
   "version": "3.10.13"
  }
 },
 "nbformat": 4,
 "nbformat_minor": 2
}
